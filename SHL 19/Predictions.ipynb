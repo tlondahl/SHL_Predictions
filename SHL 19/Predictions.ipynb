{
 "cells": [
  {
   "cell_type": "markdown",
   "metadata": {},
   "source": [
    "# SHL Predictions\n",
    "\n",
    "This model will be based on two datasets:\n",
    "1. \"shl_clean.csv\", which contains stats on how many goals each team scores and give up both home and away. This data has been cleaned from the raw data dat was contracted from https://stats.swehockey.se/ScheduleAndResults/Schedule/10371. The pyhton file used for cleaning can be found at this projects page at my github page\n",
    "2. \"games.csv\", which contains all the games of the previous SHl season. Also cleaned from the same raw data as mentioned above\n",
    "\n",
    "To calculate the probabilities of various results I used a Poission regresion. How I later built the model will be described further down in this Notebook"
   ]
  },
  {
   "cell_type": "markdown",
   "metadata": {},
   "source": [
    "## Imports"
   ]
  },
  {
   "cell_type": "code",
   "execution_count": 501,
   "metadata": {},
   "outputs": [],
   "source": [
    "import pandas as pd\n",
    "import numpy as np\n",
    "import matplotlib.pyplot as plt\n",
    "from scipy.stats import poisson\n",
    "import seaborn as sns\n",
    "import random, statistics\n",
    "\n",
    "df = pd.read_csv(\"shl_clean.csv\")\n",
    "df = df.iloc[:,1:]\n",
    "df.set_index(\"team\", inplace = True)\n",
    "games = pd.read_csv(\"games.csv\")\n",
    "games = games.iloc[:,1:]\n",
    "schedule = games.iloc[:,:2]"
   ]
  },
  {
   "cell_type": "markdown",
   "metadata": {},
   "source": [
    "### Datasets\n",
    "\n",
    "This is how the dataframes look like."
   ]
  },
  {
   "cell_type": "code",
   "execution_count": 149,
   "metadata": {},
   "outputs": [
    {
     "data": {
      "text/html": [
       "<div>\n",
       "<style scoped>\n",
       "    .dataframe tbody tr th:only-of-type {\n",
       "        vertical-align: middle;\n",
       "    }\n",
       "\n",
       "    .dataframe tbody tr th {\n",
       "        vertical-align: top;\n",
       "    }\n",
       "\n",
       "    .dataframe thead th {\n",
       "        text-align: right;\n",
       "    }\n",
       "</style>\n",
       "<table border=\"1\" class=\"dataframe\">\n",
       "  <thead>\n",
       "    <tr style=\"text-align: right;\">\n",
       "      <th></th>\n",
       "      <th>home_goals</th>\n",
       "      <th>home_ga</th>\n",
       "      <th>away_ga</th>\n",
       "      <th>away_goals</th>\n",
       "      <th>home_max</th>\n",
       "      <th>home_ga_max</th>\n",
       "      <th>away_ga_max</th>\n",
       "      <th>away_max</th>\n",
       "      <th>home_avg</th>\n",
       "      <th>away_avg</th>\n",
       "      <th>home_ga_avg</th>\n",
       "      <th>away_ga_avg</th>\n",
       "    </tr>\n",
       "    <tr>\n",
       "      <th>team</th>\n",
       "      <th></th>\n",
       "      <th></th>\n",
       "      <th></th>\n",
       "      <th></th>\n",
       "      <th></th>\n",
       "      <th></th>\n",
       "      <th></th>\n",
       "      <th></th>\n",
       "      <th></th>\n",
       "      <th></th>\n",
       "      <th></th>\n",
       "      <th></th>\n",
       "    </tr>\n",
       "  </thead>\n",
       "  <tbody>\n",
       "    <tr>\n",
       "      <th>Brynäs IF</th>\n",
       "      <td>74</td>\n",
       "      <td>69</td>\n",
       "      <td>99</td>\n",
       "      <td>58</td>\n",
       "      <td>6</td>\n",
       "      <td>6</td>\n",
       "      <td>8</td>\n",
       "      <td>6</td>\n",
       "      <td>2.846154</td>\n",
       "      <td>2.230769</td>\n",
       "      <td>2.653846</td>\n",
       "      <td>3.807692</td>\n",
       "    </tr>\n",
       "    <tr>\n",
       "      <th>Djurgårdens IF</th>\n",
       "      <td>85</td>\n",
       "      <td>54</td>\n",
       "      <td>81</td>\n",
       "      <td>52</td>\n",
       "      <td>6</td>\n",
       "      <td>6</td>\n",
       "      <td>7</td>\n",
       "      <td>5</td>\n",
       "      <td>3.269231</td>\n",
       "      <td>2.000000</td>\n",
       "      <td>2.076923</td>\n",
       "      <td>3.115385</td>\n",
       "    </tr>\n",
       "    <tr>\n",
       "      <th>Frölunda HC</th>\n",
       "      <td>91</td>\n",
       "      <td>54</td>\n",
       "      <td>72</td>\n",
       "      <td>63</td>\n",
       "      <td>8</td>\n",
       "      <td>5</td>\n",
       "      <td>5</td>\n",
       "      <td>6</td>\n",
       "      <td>3.500000</td>\n",
       "      <td>2.423077</td>\n",
       "      <td>2.076923</td>\n",
       "      <td>2.769231</td>\n",
       "    </tr>\n",
       "    <tr>\n",
       "      <th>Färjestad BK</th>\n",
       "      <td>99</td>\n",
       "      <td>58</td>\n",
       "      <td>88</td>\n",
       "      <td>74</td>\n",
       "      <td>12</td>\n",
       "      <td>6</td>\n",
       "      <td>8</td>\n",
       "      <td>7</td>\n",
       "      <td>3.807692</td>\n",
       "      <td>2.846154</td>\n",
       "      <td>2.230769</td>\n",
       "      <td>3.384615</td>\n",
       "    </tr>\n",
       "    <tr>\n",
       "      <th>HV 71</th>\n",
       "      <td>87</td>\n",
       "      <td>64</td>\n",
       "      <td>66</td>\n",
       "      <td>71</td>\n",
       "      <td>8</td>\n",
       "      <td>6</td>\n",
       "      <td>6</td>\n",
       "      <td>4</td>\n",
       "      <td>3.346154</td>\n",
       "      <td>2.730769</td>\n",
       "      <td>2.461538</td>\n",
       "      <td>2.538462</td>\n",
       "    </tr>\n",
       "  </tbody>\n",
       "</table>\n",
       "</div>"
      ],
      "text/plain": [
       "                home_goals  home_ga  away_ga  away_goals  home_max  \\\n",
       "team                                                                 \n",
       "Brynäs IF               74       69       99          58         6   \n",
       "Djurgårdens IF          85       54       81          52         6   \n",
       "Frölunda HC             91       54       72          63         8   \n",
       "Färjestad BK            99       58       88          74        12   \n",
       "HV 71                   87       64       66          71         8   \n",
       "\n",
       "                home_ga_max  away_ga_max  away_max  home_avg  away_avg  \\\n",
       "team                                                                     \n",
       "Brynäs IF                 6            8         6  2.846154  2.230769   \n",
       "Djurgårdens IF            6            7         5  3.269231  2.000000   \n",
       "Frölunda HC               5            5         6  3.500000  2.423077   \n",
       "Färjestad BK              6            8         7  3.807692  2.846154   \n",
       "HV 71                     6            6         4  3.346154  2.730769   \n",
       "\n",
       "                home_ga_avg  away_ga_avg  \n",
       "team                                      \n",
       "Brynäs IF          2.653846     3.807692  \n",
       "Djurgårdens IF     2.076923     3.115385  \n",
       "Frölunda HC        2.076923     2.769231  \n",
       "Färjestad BK       2.230769     3.384615  \n",
       "HV 71              2.461538     2.538462  "
      ]
     },
     "execution_count": 149,
     "metadata": {},
     "output_type": "execute_result"
    }
   ],
   "source": [
    "df.head()"
   ]
  },
  {
   "cell_type": "code",
   "execution_count": 457,
   "metadata": {},
   "outputs": [
    {
     "data": {
      "text/html": [
       "<div>\n",
       "<style scoped>\n",
       "    .dataframe tbody tr th:only-of-type {\n",
       "        vertical-align: middle;\n",
       "    }\n",
       "\n",
       "    .dataframe tbody tr th {\n",
       "        vertical-align: top;\n",
       "    }\n",
       "\n",
       "    .dataframe thead th {\n",
       "        text-align: right;\n",
       "    }\n",
       "</style>\n",
       "<table border=\"1\" class=\"dataframe\">\n",
       "  <thead>\n",
       "    <tr style=\"text-align: right;\">\n",
       "      <th></th>\n",
       "      <th>home</th>\n",
       "      <th>away</th>\n",
       "      <th>home_goals</th>\n",
       "      <th>away_goals</th>\n",
       "      <th>tie?</th>\n",
       "    </tr>\n",
       "  </thead>\n",
       "  <tbody>\n",
       "    <tr>\n",
       "      <th>0</th>\n",
       "      <td>Frölunda HC</td>\n",
       "      <td>Brynäs IF</td>\n",
       "      <td>2</td>\n",
       "      <td>5</td>\n",
       "      <td>n</td>\n",
       "    </tr>\n",
       "    <tr>\n",
       "      <th>1</th>\n",
       "      <td>Skellefteå AIK</td>\n",
       "      <td>IK Oskarshamn</td>\n",
       "      <td>5</td>\n",
       "      <td>4</td>\n",
       "      <td>y</td>\n",
       "    </tr>\n",
       "    <tr>\n",
       "      <th>2</th>\n",
       "      <td>Leksands IF</td>\n",
       "      <td>IF Malmö Redhawks</td>\n",
       "      <td>5</td>\n",
       "      <td>2</td>\n",
       "      <td>n</td>\n",
       "    </tr>\n",
       "    <tr>\n",
       "      <th>3</th>\n",
       "      <td>Djurgårdens IF</td>\n",
       "      <td>Linköping HC</td>\n",
       "      <td>4</td>\n",
       "      <td>2</td>\n",
       "      <td>n</td>\n",
       "    </tr>\n",
       "    <tr>\n",
       "      <th>4</th>\n",
       "      <td>Färjestad BK</td>\n",
       "      <td>Örebro HK</td>\n",
       "      <td>4</td>\n",
       "      <td>6</td>\n",
       "      <td>n</td>\n",
       "    </tr>\n",
       "  </tbody>\n",
       "</table>\n",
       "</div>"
      ],
      "text/plain": [
       "             home               away  home_goals  away_goals tie?\n",
       "0     Frölunda HC          Brynäs IF           2           5    n\n",
       "1  Skellefteå AIK      IK Oskarshamn           5           4    y\n",
       "2     Leksands IF  IF Malmö Redhawks           5           2    n\n",
       "3  Djurgårdens IF       Linköping HC           4           2    n\n",
       "4    Färjestad BK          Örebro HK           4           6    n"
      ]
     },
     "execution_count": 457,
     "metadata": {},
     "output_type": "execute_result"
    }
   ],
   "source": [
    "games.head()"
   ]
  },
  {
   "cell_type": "code",
   "execution_count": 266,
   "metadata": {},
   "outputs": [
    {
     "data": {
      "text/html": [
       "<div>\n",
       "<style scoped>\n",
       "    .dataframe tbody tr th:only-of-type {\n",
       "        vertical-align: middle;\n",
       "    }\n",
       "\n",
       "    .dataframe tbody tr th {\n",
       "        vertical-align: top;\n",
       "    }\n",
       "\n",
       "    .dataframe thead th {\n",
       "        text-align: right;\n",
       "    }\n",
       "</style>\n",
       "<table border=\"1\" class=\"dataframe\">\n",
       "  <thead>\n",
       "    <tr style=\"text-align: right;\">\n",
       "      <th></th>\n",
       "      <th>home</th>\n",
       "      <th>away</th>\n",
       "    </tr>\n",
       "  </thead>\n",
       "  <tbody>\n",
       "    <tr>\n",
       "      <th>0</th>\n",
       "      <td>Frölunda HC</td>\n",
       "      <td>Brynäs IF</td>\n",
       "    </tr>\n",
       "    <tr>\n",
       "      <th>1</th>\n",
       "      <td>Skellefteå AIK</td>\n",
       "      <td>IK Oskarshamn</td>\n",
       "    </tr>\n",
       "    <tr>\n",
       "      <th>2</th>\n",
       "      <td>Leksands IF</td>\n",
       "      <td>IF Malmö Redhawks</td>\n",
       "    </tr>\n",
       "    <tr>\n",
       "      <th>3</th>\n",
       "      <td>Djurgårdens IF</td>\n",
       "      <td>Linköping HC</td>\n",
       "    </tr>\n",
       "    <tr>\n",
       "      <th>4</th>\n",
       "      <td>Färjestad BK</td>\n",
       "      <td>Örebro HK</td>\n",
       "    </tr>\n",
       "  </tbody>\n",
       "</table>\n",
       "</div>"
      ],
      "text/plain": [
       "             home               away\n",
       "0     Frölunda HC          Brynäs IF\n",
       "1  Skellefteå AIK      IK Oskarshamn\n",
       "2     Leksands IF  IF Malmö Redhawks\n",
       "3  Djurgårdens IF       Linköping HC\n",
       "4    Färjestad BK          Örebro HK"
      ]
     },
     "execution_count": 266,
     "metadata": {},
     "output_type": "execute_result"
    }
   ],
   "source": [
    "schedule.head()"
   ]
  },
  {
   "cell_type": "markdown",
   "metadata": {},
   "source": [
    "## Test"
   ]
  },
  {
   "cell_type": "markdown",
   "metadata": {},
   "source": [
    "In order to find all the variables for my model I need to test some code. I started by hardcoding and eventuelly work my way into a more and more dynamic model"
   ]
  },
  {
   "cell_type": "code",
   "execution_count": 134,
   "metadata": {},
   "outputs": [
    {
     "name": "stdout",
     "output_type": "stream",
     "text": [
      "[0.022199355989648038, 0.08452831020693492, 0.16092888527423221, 0.20425587634253742, 0.19443586657561712, 0.14807037873460893, 0.09396773275745686, 0.051114312039815174, 0.024328444629938474, 0.010292802665539977, 0.003919182236715519, 0.001356639895389437, 0.00043047223971293456]\n"
     ]
    }
   ],
   "source": [
    "#Poisson, probability of Färjestad BK to score 0-12 goals at home\n",
    "prob_goals_fbk = [poisson.pmf(i, 3.807692) for i in range(12+1)]\n",
    "print(prob_goals_fbk)"
   ]
  },
  {
   "cell_type": "code",
   "execution_count": 145,
   "metadata": {},
   "outputs": [
    {
     "name": "stdout",
     "output_type": "stream",
     "text": [
      "[0.035219548338589875, 0.11785003255136588, 0.1971721789109415, 0.21992282505052088, 0.18397391018352507, 0.12312100709124862, 0.06866364172706833, 0.032822731345656615, 0.01372873922289928]\n"
     ]
    }
   ],
   "source": [
    "#Poisson, probability of HV71 to score 0-8 goals at home\n",
    "prob_goals_hv = [poisson.pmf(i, 3.346154) for i in range(8+1)]\n",
    "print(prob_goals_hv)"
   ]
  },
  {
   "cell_type": "code",
   "execution_count": 136,
   "metadata": {},
   "outputs": [
    {
     "data": {
      "text/html": [
       "<div>\n",
       "<style scoped>\n",
       "    .dataframe tbody tr th:only-of-type {\n",
       "        vertical-align: middle;\n",
       "    }\n",
       "\n",
       "    .dataframe tbody tr th {\n",
       "        vertical-align: top;\n",
       "    }\n",
       "\n",
       "    .dataframe thead th {\n",
       "        text-align: right;\n",
       "    }\n",
       "</style>\n",
       "<table border=\"1\" class=\"dataframe\">\n",
       "  <thead>\n",
       "    <tr style=\"text-align: right;\">\n",
       "      <th></th>\n",
       "      <th>home</th>\n",
       "      <th>away</th>\n",
       "      <th>home_goals</th>\n",
       "      <th>away_goals</th>\n",
       "    </tr>\n",
       "  </thead>\n",
       "  <tbody>\n",
       "    <tr>\n",
       "      <th>4</th>\n",
       "      <td>Färjestad BK</td>\n",
       "      <td>Örebro HK</td>\n",
       "      <td>4</td>\n",
       "      <td>6</td>\n",
       "    </tr>\n",
       "    <tr>\n",
       "      <th>15</th>\n",
       "      <td>Färjestad BK</td>\n",
       "      <td>Växjö Lakers HC</td>\n",
       "      <td>4</td>\n",
       "      <td>2</td>\n",
       "    </tr>\n",
       "    <tr>\n",
       "      <th>29</th>\n",
       "      <td>Färjestad BK</td>\n",
       "      <td>IF Malmö Redhawks</td>\n",
       "      <td>4</td>\n",
       "      <td>3</td>\n",
       "    </tr>\n",
       "    <tr>\n",
       "      <th>50</th>\n",
       "      <td>Färjestad BK</td>\n",
       "      <td>IK Oskarshamn</td>\n",
       "      <td>12</td>\n",
       "      <td>0</td>\n",
       "    </tr>\n",
       "    <tr>\n",
       "      <th>56</th>\n",
       "      <td>Färjestad BK</td>\n",
       "      <td>Leksands IF</td>\n",
       "      <td>6</td>\n",
       "      <td>4</td>\n",
       "    </tr>\n",
       "    <tr>\n",
       "      <th>75</th>\n",
       "      <td>Färjestad BK</td>\n",
       "      <td>Rögle BK</td>\n",
       "      <td>5</td>\n",
       "      <td>3</td>\n",
       "    </tr>\n",
       "    <tr>\n",
       "      <th>76</th>\n",
       "      <td>Färjestad BK</td>\n",
       "      <td>Luleå HF</td>\n",
       "      <td>2</td>\n",
       "      <td>3</td>\n",
       "    </tr>\n",
       "    <tr>\n",
       "      <th>93</th>\n",
       "      <td>Färjestad BK</td>\n",
       "      <td>HV 71</td>\n",
       "      <td>3</td>\n",
       "      <td>2</td>\n",
       "    </tr>\n",
       "    <tr>\n",
       "      <th>111</th>\n",
       "      <td>Färjestad BK</td>\n",
       "      <td>Djurgårdens IF</td>\n",
       "      <td>4</td>\n",
       "      <td>1</td>\n",
       "    </tr>\n",
       "    <tr>\n",
       "      <th>114</th>\n",
       "      <td>Färjestad BK</td>\n",
       "      <td>Brynäs IF</td>\n",
       "      <td>2</td>\n",
       "      <td>1</td>\n",
       "    </tr>\n",
       "    <tr>\n",
       "      <th>143</th>\n",
       "      <td>Färjestad BK</td>\n",
       "      <td>Skellefteå AIK</td>\n",
       "      <td>4</td>\n",
       "      <td>2</td>\n",
       "    </tr>\n",
       "    <tr>\n",
       "      <th>151</th>\n",
       "      <td>Färjestad BK</td>\n",
       "      <td>Frölunda HC</td>\n",
       "      <td>4</td>\n",
       "      <td>1</td>\n",
       "    </tr>\n",
       "    <tr>\n",
       "      <th>190</th>\n",
       "      <td>Färjestad BK</td>\n",
       "      <td>Luleå HF</td>\n",
       "      <td>2</td>\n",
       "      <td>3</td>\n",
       "    </tr>\n",
       "    <tr>\n",
       "      <th>203</th>\n",
       "      <td>Färjestad BK</td>\n",
       "      <td>Linköping HC</td>\n",
       "      <td>3</td>\n",
       "      <td>1</td>\n",
       "    </tr>\n",
       "    <tr>\n",
       "      <th>212</th>\n",
       "      <td>Färjestad BK</td>\n",
       "      <td>IF Malmö Redhawks</td>\n",
       "      <td>5</td>\n",
       "      <td>1</td>\n",
       "    </tr>\n",
       "    <tr>\n",
       "      <th>217</th>\n",
       "      <td>Färjestad BK</td>\n",
       "      <td>IK Oskarshamn</td>\n",
       "      <td>5</td>\n",
       "      <td>1</td>\n",
       "    </tr>\n",
       "    <tr>\n",
       "      <th>240</th>\n",
       "      <td>Färjestad BK</td>\n",
       "      <td>Växjö Lakers HC</td>\n",
       "      <td>3</td>\n",
       "      <td>4</td>\n",
       "    </tr>\n",
       "    <tr>\n",
       "      <th>255</th>\n",
       "      <td>Färjestad BK</td>\n",
       "      <td>Leksands IF</td>\n",
       "      <td>4</td>\n",
       "      <td>3</td>\n",
       "    </tr>\n",
       "    <tr>\n",
       "      <th>265</th>\n",
       "      <td>Färjestad BK</td>\n",
       "      <td>Örebro HK</td>\n",
       "      <td>3</td>\n",
       "      <td>1</td>\n",
       "    </tr>\n",
       "    <tr>\n",
       "      <th>280</th>\n",
       "      <td>Färjestad BK</td>\n",
       "      <td>Skellefteå AIK</td>\n",
       "      <td>0</td>\n",
       "      <td>3</td>\n",
       "    </tr>\n",
       "    <tr>\n",
       "      <th>287</th>\n",
       "      <td>Färjestad BK</td>\n",
       "      <td>Brynäs IF</td>\n",
       "      <td>5</td>\n",
       "      <td>2</td>\n",
       "    </tr>\n",
       "    <tr>\n",
       "      <th>296</th>\n",
       "      <td>Färjestad BK</td>\n",
       "      <td>Frölunda HC</td>\n",
       "      <td>5</td>\n",
       "      <td>2</td>\n",
       "    </tr>\n",
       "    <tr>\n",
       "      <th>316</th>\n",
       "      <td>Färjestad BK</td>\n",
       "      <td>Rögle BK</td>\n",
       "      <td>3</td>\n",
       "      <td>2</td>\n",
       "    </tr>\n",
       "    <tr>\n",
       "      <th>330</th>\n",
       "      <td>Färjestad BK</td>\n",
       "      <td>HV 71</td>\n",
       "      <td>1</td>\n",
       "      <td>2</td>\n",
       "    </tr>\n",
       "    <tr>\n",
       "      <th>347</th>\n",
       "      <td>Färjestad BK</td>\n",
       "      <td>Djurgårdens IF</td>\n",
       "      <td>4</td>\n",
       "      <td>1</td>\n",
       "    </tr>\n",
       "    <tr>\n",
       "      <th>351</th>\n",
       "      <td>Färjestad BK</td>\n",
       "      <td>Linköping HC</td>\n",
       "      <td>2</td>\n",
       "      <td>4</td>\n",
       "    </tr>\n",
       "  </tbody>\n",
       "</table>\n",
       "</div>"
      ],
      "text/plain": [
       "             home               away  home_goals  away_goals\n",
       "4    Färjestad BK          Örebro HK           4           6\n",
       "15   Färjestad BK    Växjö Lakers HC           4           2\n",
       "29   Färjestad BK  IF Malmö Redhawks           4           3\n",
       "50   Färjestad BK      IK Oskarshamn          12           0\n",
       "56   Färjestad BK        Leksands IF           6           4\n",
       "75   Färjestad BK           Rögle BK           5           3\n",
       "76   Färjestad BK           Luleå HF           2           3\n",
       "93   Färjestad BK              HV 71           3           2\n",
       "111  Färjestad BK     Djurgårdens IF           4           1\n",
       "114  Färjestad BK          Brynäs IF           2           1\n",
       "143  Färjestad BK     Skellefteå AIK           4           2\n",
       "151  Färjestad BK        Frölunda HC           4           1\n",
       "190  Färjestad BK           Luleå HF           2           3\n",
       "203  Färjestad BK       Linköping HC           3           1\n",
       "212  Färjestad BK  IF Malmö Redhawks           5           1\n",
       "217  Färjestad BK      IK Oskarshamn           5           1\n",
       "240  Färjestad BK    Växjö Lakers HC           3           4\n",
       "255  Färjestad BK        Leksands IF           4           3\n",
       "265  Färjestad BK          Örebro HK           3           1\n",
       "280  Färjestad BK     Skellefteå AIK           0           3\n",
       "287  Färjestad BK          Brynäs IF           5           2\n",
       "296  Färjestad BK        Frölunda HC           5           2\n",
       "316  Färjestad BK           Rögle BK           3           2\n",
       "330  Färjestad BK              HV 71           1           2\n",
       "347  Färjestad BK     Djurgårdens IF           4           1\n",
       "351  Färjestad BK       Linköping HC           2           4"
      ]
     },
     "execution_count": 136,
     "metadata": {},
     "output_type": "execute_result"
    }
   ],
   "source": [
    "#filtering only certain teams (in this case the home games of \"Färjestad BK\")\n",
    "games.loc[games[\"home\"] == \"Färjestad BK\"]"
   ]
  },
  {
   "cell_type": "code",
   "execution_count": 142,
   "metadata": {},
   "outputs": [
    {
     "data": {
      "image/png": "[encoded data removed]",
      "text/plain": [
       "<Figure size 432x288 with 1 Axes>"
      ]
     },
     "metadata": {
      "needs_background": "light"
     },
     "output_type": "display_data"
    }
   ],
   "source": [
    "# Plot histogram of actual goals at home for Färjestad vs. poission\n",
    "plt.hist(games.loc[games[\"home\"] == \"Färjestad BK\"][\"home_goals\"], edgecolor=\"white\", density = True, color = \"#22311d\")\n",
    "plt.plot(prob_goals_fbk,marker = \"o\", label = \"FBK\", color = \"#49738C\")\n",
    "plt.show()"
   ]
  },
  {
   "cell_type": "code",
   "execution_count": 164,
   "metadata": {},
   "outputs": [
    {
     "data": {
      "image/png": "[encoded data removed]",
      "text/plain": [
       "<Figure size 432x288 with 1 Axes>"
      ]
     },
     "metadata": {
      "needs_background": "light"
     },
     "output_type": "display_data"
    }
   ],
   "source": [
    "# Plot histogram of actual goals at home for HV71 vs. poission\n",
    "plt.hist(games.loc[games[\"home\"] == \"HV 71\"][\"home_goals\"], edgecolor=\"white\", density = True, color = \"#060187\")\n",
    "plt.plot(prob_goals_hv,marker = \"o\", label = \"HV71\", color = \"#ffb300\")\n",
    "plt.show()"
   ]
  },
  {
   "cell_type": "markdown",
   "metadata": {},
   "source": [
    "# Building a dynamic model\n",
    "\n",
    "There are certain aspects that usually have an affect on a hockey game. A team who plays at home usually have an advantage. Hence, I seperated the goals scored for the various team on home and away ice. For the Poission regression I used the maximum amount of goals scored by each individual team at home/away as the range parameter. Then I used the average amount of goals scored at home/away by a team as the other factor in the Poission calculations."
   ]
  },
  {
   "cell_type": "code",
   "execution_count": 493,
   "metadata": {},
   "outputs": [],
   "source": [
    "# What we need:\n",
    "# Poisson calculation where the team and goal max is dynamic rather hand hard coded\n",
    "def pois (df, team, max_g, avg_g):\n",
    "    avg = df.loc[team, avg_g]\n",
    "    ma = df.loc[team, max_g]\n",
    "    pois = [poisson.pmf(i, avg) for i in range(ma+1)]\n",
    "    return(pois)"
   ]
  },
  {
   "cell_type": "markdown",
   "metadata": {},
   "source": [
    "The function above calculated the different probababilities of a team scoring x number of goals in a game. It would then return an array of these probabilities from 0 goals up to the maximum amount of that team.\n",
    "\n",
    "Below I tested the function using the team \"Färjestad BK\" who managed to score 12 goals in one of their games last year. Hence, the output will be each probability of Färjestad scoring 0-12 goals (13 different values)"
   ]
  },
  {
   "cell_type": "code",
   "execution_count": 494,
   "metadata": {},
   "outputs": [
    {
     "name": "stdout",
     "output_type": "stream",
     "text": [
      "0.9998282594556932\n",
      "[0.022199349159078008, 0.08452829102879701, 0.16092886176636356, 0.20425586301115373, 0.19443586959715595, 0.14807039300091115, 0.09396774940442429, 0.051114325225483585, 0.02432845287174457, 0.010292806984199626, 0.0039191841978298576, 0.0013566406838641804, 0.00043047252468767324]\n"
     ]
    }
   ],
   "source": [
    "fbk = pois(df, \"Färjestad BK\", \"home_max\", \"home_avg\")\n",
    "print(sum(fbk))\n",
    "print(fbk)"
   ]
  },
  {
   "cell_type": "code",
   "execution_count": 495,
   "metadata": {},
   "outputs": [
    {
     "name": "stdout",
     "output_type": "stream",
     "text": [
      "0.9924746165339299\n",
      "[0.03521955375698233, 0.11785004526374857, 0.1971721911143486, 0.21992282855061962, 0.1839739046529222, 0.12312099772926341, 0.06866363334901222, 0.03282272583167068, 0.013728736285362251]\n"
     ]
    }
   ],
   "source": [
    "hv = pois(df, \"HV 71\", \"home_max\", \"home_avg\")\n",
    "print(sum(hv))\n",
    "print(hv)"
   ]
  },
  {
   "cell_type": "markdown",
   "metadata": {},
   "source": [
    "### Test to show the probability of different results\n",
    "To simulate a match I multiplies the values from the poission regression of one home team (Färjestad BK) and one away team (HV 71) and created different arrays for each home goal. For instance the probability of Färjestad scoring 1 goal multiplied by the probability of HV 71 would score 1 goal.\n",
    "\n",
    "These arrays where then plotted into a heatmap get a good overview over the probabilites"
   ]
  },
  {
   "cell_type": "code",
   "execution_count": 496,
   "metadata": {},
   "outputs": [
    {
     "name": "stdout",
     "output_type": "stream",
     "text": [
      "[[0.001 0.004 0.005 0.005 0.003]\n",
      " [0.006 0.015 0.021 0.019 0.013]\n",
      " [0.01  0.029 0.039 0.036 0.024]\n",
      " [0.013 0.036 0.05  0.045 0.031]\n",
      " [0.013 0.035 0.047 0.043 0.029]\n",
      " [0.01  0.026 0.036 0.033 0.022]\n",
      " [0.006 0.017 0.023 0.021 0.014]\n",
      " [0.003 0.009 0.012 0.011 0.008]\n",
      " [0.002 0.004 0.006 0.005 0.004]\n",
      " [0.001 0.002 0.003 0.002 0.002]\n",
      " [0.    0.001 0.001 0.001 0.001]\n",
      " [0.    0.    0.    0.    0.   ]\n",
      " [0.    0.    0.    0.    0.   ]]\n"
     ]
    }
   ],
   "source": [
    "home = pois(df, \"Färjestad BK\", \"home_max\", \"home_avg\")\n",
    "away = pois(df, \"HV 71\", \"away_max\", \"away_avg\")\n",
    "\n",
    "matrix = np.multiply.outer(home, away)\n",
    "np.set_printoptions(suppress = True)\n",
    "print(matrix)"
   ]
  },
  {
   "cell_type": "code",
   "execution_count": 236,
   "metadata": {},
   "outputs": [
    {
     "name": "stdout",
     "output_type": "stream",
     "text": [
      "0.8581478267227558\n"
     ]
    }
   ],
   "source": [
    "print(np.sum(matrix))"
   ]
  },
  {
   "cell_type": "code",
   "execution_count": 358,
   "metadata": {},
   "outputs": [
    {
     "data": {
      "image/png": "[encoded data removed]",
      "text/plain": [
       "<Figure size 432x288 with 2 Axes>"
      ]
     },
     "metadata": {
      "needs_background": "light"
     },
     "output_type": "display_data"
    }
   ],
   "source": [
    "res = sns.heatmap(matrix, annot = True)"
   ]
  },
  {
   "cell_type": "markdown",
   "metadata": {},
   "source": [
    "In order to later get the sum of all the propbabilities for a home win, away win and tie i needed to slice the array of all the resuts."
   ]
  },
  {
   "cell_type": "code",
   "execution_count": 199,
   "metadata": {},
   "outputs": [
    {
     "data": {
      "text/plain": [
       "array([0.001, 0.015, 0.039, 0.045, 0.029])"
      ]
     },
     "execution_count": 199,
     "metadata": {},
     "output_type": "execute_result"
    }
   ],
   "source": [
    "# Slice only the diagonal (tie)\n",
    "np.diagonal(matrix)"
   ]
  },
  {
   "cell_type": "code",
   "execution_count": 201,
   "metadata": {},
   "outputs": [
    {
     "data": {
      "text/plain": [
       "array([[0.   , 0.004, 0.005, 0.005, 0.003],\n",
       "       [0.   , 0.   , 0.021, 0.019, 0.013],\n",
       "       [0.   , 0.   , 0.   , 0.036, 0.024],\n",
       "       [0.   , 0.   , 0.   , 0.   , 0.031],\n",
       "       [0.   , 0.   , 0.   , 0.   , 0.   ],\n",
       "       [0.   , 0.   , 0.   , 0.   , 0.   ],\n",
       "       [0.   , 0.   , 0.   , 0.   , 0.   ],\n",
       "       [0.   , 0.   , 0.   , 0.   , 0.   ],\n",
       "       [0.   , 0.   , 0.   , 0.   , 0.   ],\n",
       "       [0.   , 0.   , 0.   , 0.   , 0.   ],\n",
       "       [0.   , 0.   , 0.   , 0.   , 0.   ],\n",
       "       [0.   , 0.   , 0.   , 0.   , 0.   ],\n",
       "       [0.   , 0.   , 0.   , 0.   , 0.   ]])"
      ]
     },
     "execution_count": 201,
     "metadata": {},
     "output_type": "execute_result"
    }
   ],
   "source": [
    "# Slice only the top diagonal (away team win)\n",
    "np.triu(matrix, 1)"
   ]
  },
  {
   "cell_type": "code",
   "execution_count": 470,
   "metadata": {},
   "outputs": [
    {
     "name": "stdout",
     "output_type": "stream",
     "text": [
      "56.76760692055387\n"
     ]
    }
   ],
   "source": [
    "# Slice only the bottom diagonal (home team win)\n",
    "print(np.sum(np.tril(matrix, -1)*100))"
   ]
  },
  {
   "cell_type": "code",
   "execution_count": 480,
   "metadata": {},
   "outputs": [
    {
     "name": "stdout",
     "output_type": "stream",
     "text": [
      "0.6615131467191135\n",
      "0.18684660235473652\n",
      "0.15164025092614997\n",
      "40\n",
      "33.84868532808865\n",
      "Home win!\n"
     ]
    }
   ],
   "source": [
    "home_prob = np.sum(np.tril(matrix, -1))/np.sum(matrix)\n",
    "away_prob = np.sum(np.triu(matrix, 1))/np.sum(matrix)\n",
    "tie_prob = np.sum(np.diagonal(matrix))/np.sum(matrix)\n",
    "res = random.randrange(1, 100)\n",
    "\n",
    "print(home_prob)\n",
    "print(away_prob)\n",
    "print(tie_prob)\n",
    "print(res)\n",
    "print(np.sum((away_prob, tie_prob))*100)\n",
    "\n",
    "if res > np.sum((away_prob, tie_prob), dtype=np.int32)*100:\n",
    "    print(\"Home win!\")\n",
    "elif res > tie_prob*100:\n",
    "    print(\"Away win!\")\n",
    "else:\n",
    "    print(\"Tie\")"
   ]
  },
  {
   "cell_type": "markdown",
   "metadata": {},
   "source": [
    "## Build a function for simulating a game"
   ]
  },
  {
   "cell_type": "markdown",
   "metadata": {},
   "source": [
    "When I had all the variables I needed and knew how to access them easily I could build a function for simulating a game. The input would be the stings, the home team and the away team.\n",
    "\n",
    "At the moment I set the function to print the probabilities of a home win, away win or a tie. Later I will be develop this further to output the most likely results in order to backtrack a certain amount of games. or in the end simulate an entire season."
   ]
  },
  {
   "cell_type": "code",
   "execution_count": 232,
   "metadata": {},
   "outputs": [],
   "source": [
    "def sim_game(home_team, away_team):\n",
    "    home = pois(home_team, \"home_max\", \"home_avg\")\n",
    "    away = pois(away_team,\"away_max\", \"away_avg\")\n",
    "    matrix = np.multiply.outer(home, away)   \n",
    "    home_prob = np.sum(np.tril(matrix, -1))/np.sum(matrix)\n",
    "    away_prob = np.sum(np.triu(matrix, 1))/np.sum(matrix)\n",
    "    tie_prob = np.sum(np.diagonal(matrix))/np.sum(matrix)\n",
    "    winner = max(home_prob, away_prob, tie_prob)\n",
    "    print(\"The probability of {} winning is: {:.2%}\".format(home_team, home_prob))\n",
    "    print(\"The probability of {} winning is: {:.2%}\".format(away_team, away_prob))\n",
    "    print(\"The probability of a tie is: {:.2%}\".format(tie_prob))\n",
    "    "
   ]
  },
  {
   "cell_type": "code",
   "execution_count": 260,
   "metadata": {},
   "outputs": [
    {
     "name": "stdout",
     "output_type": "stream",
     "text": [
      "The probability of Färjestad BK winning is: 67.31%\n",
      "The probability of Brynäs IF winning is: 18.89%\n",
      "The probability of a tie is: 13.80%\n"
     ]
    }
   ],
   "source": [
    "sim_game(\"Färjestad BK\", \"Brynäs IF\")"
   ]
  },
  {
   "cell_type": "markdown",
   "metadata": {},
   "source": [
    "### Testing\n",
    "Testing new version of the fuction in order to simulate several games\n",
    "\n",
    "#### Version 1"
   ]
  },
  {
   "cell_type": "code",
   "execution_count": 344,
   "metadata": {},
   "outputs": [],
   "source": [
    "def sim_game2(home_team, away_team):\n",
    "    result = {}\n",
    "    home = pois(home_team, \"home_max\", \"home_avg\")\n",
    "    away = pois(away_team,\"away_max\", \"away_avg\")\n",
    "    matrix = np.multiply.outer(home, away)   \n",
    "    home_prob = np.sum(np.tril(matrix, -1))/np.sum(matrix)\n",
    "    away_prob = np.sum(np.triu(matrix, 1))/np.sum(matrix)\n",
    "    tie_prob = np.sum(np.diagonal(matrix))/np.sum(matrix)\n",
    "    if home_prob == max(home_prob, away_prob, tie_prob):\n",
    "        return home_team\n",
    "    elif away_prob == max(home_prob, away_prob, tie_prob):\n",
    "        return away_team\n",
    "    else:\n",
    "        return \"Tie\"\n",
    "        "
   ]
  },
  {
   "cell_type": "code",
   "execution_count": 346,
   "metadata": {},
   "outputs": [],
   "source": [
    "def sim_games():\n",
    "    results = []\n",
    "    for i in schedule.tail(7):\n",
    "        h = schedule.home\n",
    "        a = schedule.away\n",
    "        winner = sim_game(h, a)\n",
    "        print(winner)"
   ]
  },
  {
   "cell_type": "code",
   "execution_count": 347,
   "metadata": {},
   "outputs": [
    {
     "name": "stdout",
     "output_type": "stream",
     "text": [
      "Brynäs IF\n",
      "Frölunda HC\n",
      "Linköping HC\n",
      "Luleå HF\n",
      "Rögle BK\n",
      "HV 71\n",
      "Färjestad BK\n"
     ]
    }
   ],
   "source": [
    "test = schedule.tail(7)\n",
    "results = []\n",
    "for h, a in zip(test.iloc[:,0], test.iloc[:,1]):\n",
    "    winner = sim_game2(h, a)\n",
    "    print(winner)"
   ]
  },
  {
   "cell_type": "markdown",
   "metadata": {},
   "source": [
    "Version 1: 5/7 correct (71,42%)"
   ]
  },
  {
   "cell_type": "code",
   "execution_count": 349,
   "metadata": {},
   "outputs": [
    {
     "data": {
      "text/html": [
       "<div>\n",
       "<style scoped>\n",
       "    .dataframe tbody tr th:only-of-type {\n",
       "        vertical-align: middle;\n",
       "    }\n",
       "\n",
       "    .dataframe tbody tr th {\n",
       "        vertical-align: top;\n",
       "    }\n",
       "\n",
       "    .dataframe thead th {\n",
       "        text-align: right;\n",
       "    }\n",
       "</style>\n",
       "<table border=\"1\" class=\"dataframe\">\n",
       "  <thead>\n",
       "    <tr style=\"text-align: right;\">\n",
       "      <th></th>\n",
       "      <th>home</th>\n",
       "      <th>away</th>\n",
       "      <th>home_goals</th>\n",
       "      <th>away_goals</th>\n",
       "    </tr>\n",
       "  </thead>\n",
       "  <tbody>\n",
       "    <tr>\n",
       "      <th>357</th>\n",
       "      <td>Brynäs IF</td>\n",
       "      <td>Örebro HK</td>\n",
       "      <td>1</td>\n",
       "      <td>6</td>\n",
       "    </tr>\n",
       "    <tr>\n",
       "      <th>358</th>\n",
       "      <td>Frölunda HC</td>\n",
       "      <td>Djurgårdens IF</td>\n",
       "      <td>3</td>\n",
       "      <td>2</td>\n",
       "    </tr>\n",
       "    <tr>\n",
       "      <th>359</th>\n",
       "      <td>Linköping HC</td>\n",
       "      <td>IK Oskarshamn</td>\n",
       "      <td>3</td>\n",
       "      <td>1</td>\n",
       "    </tr>\n",
       "    <tr>\n",
       "      <th>360</th>\n",
       "      <td>Luleå HF</td>\n",
       "      <td>Skellefteå AIK</td>\n",
       "      <td>3</td>\n",
       "      <td>0</td>\n",
       "    </tr>\n",
       "    <tr>\n",
       "      <th>361</th>\n",
       "      <td>Rögle BK</td>\n",
       "      <td>IF Malmö Redhawks</td>\n",
       "      <td>5</td>\n",
       "      <td>2</td>\n",
       "    </tr>\n",
       "    <tr>\n",
       "      <th>362</th>\n",
       "      <td>Leksands IF</td>\n",
       "      <td>HV 71</td>\n",
       "      <td>5</td>\n",
       "      <td>2</td>\n",
       "    </tr>\n",
       "    <tr>\n",
       "      <th>363</th>\n",
       "      <td>Växjö Lakers HC</td>\n",
       "      <td>Färjestad BK</td>\n",
       "      <td>4</td>\n",
       "      <td>7</td>\n",
       "    </tr>\n",
       "  </tbody>\n",
       "</table>\n",
       "</div>"
      ],
      "text/plain": [
       "                home               away  home_goals  away_goals\n",
       "357        Brynäs IF          Örebro HK           1           6\n",
       "358      Frölunda HC     Djurgårdens IF           3           2\n",
       "359     Linköping HC      IK Oskarshamn           3           1\n",
       "360         Luleå HF     Skellefteå AIK           3           0\n",
       "361         Rögle BK  IF Malmö Redhawks           5           2\n",
       "362      Leksands IF              HV 71           5           2\n",
       "363  Växjö Lakers HC       Färjestad BK           4           7"
      ]
     },
     "execution_count": 349,
     "metadata": {},
     "output_type": "execute_result"
    }
   ],
   "source": [
    "games.tail(7)"
   ]
  },
  {
   "cell_type": "markdown",
   "metadata": {},
   "source": [
    "#### Version 2"
   ]
  },
  {
   "cell_type": "code",
   "execution_count": 537,
   "metadata": {},
   "outputs": [],
   "source": [
    "def win(df, home_team, away_team):\n",
    "    home = pois(df, home_team, \"home_max\", \"home_avg\")\n",
    "    away = pois(df, away_team,\"away_max\", \"away_avg\")\n",
    "    matrix = np.multiply.outer(home, away)\n",
    "    home_prob = np.sum(np.tril(matrix, -1))/np.sum(matrix)\n",
    "    away_prob = np.sum(np.triu(matrix, 1))/np.sum(matrix)\n",
    "    tie_prob = np.sum(np.diagonal(matrix))/np.sum(matrix)\n",
    "    res = random.randrange(1, 101)\n",
    "    if res > (away_prob + tie_prob)*100:\n",
    "        return home_team\n",
    "    elif res > tie_prob*100:\n",
    "        return away_team\n",
    "    else:\n",
    "        return \"tie\""
   ]
  },
  {
   "cell_type": "code",
   "execution_count": 483,
   "metadata": {},
   "outputs": [
    {
     "name": "stdout",
     "output_type": "stream",
     "text": [
      "Örebro HK\n",
      "Tie\n",
      "Tie\n",
      "Luleå HF\n",
      "IF Malmö Redhawks\n",
      "Tie\n",
      "Växjö Lakers HC\n"
     ]
    }
   ],
   "source": [
    "test = schedule.tail(7)\n",
    "for h, a in zip(test.iloc[:,0], test.iloc[:,1]):\n",
    "    winner = sim_game3(h, a)\n",
    "    print(winner)"
   ]
  },
  {
   "cell_type": "markdown",
   "metadata": {},
   "source": [
    "Version 1: 5/7 correct (71,42%)"
   ]
  },
  {
   "cell_type": "code",
   "execution_count": 538,
   "metadata": {},
   "outputs": [
    {
     "name": "stderr",
     "output_type": "stream",
     "text": [
      "/opt/anaconda3/lib/python3.7/site-packages/ipykernel_launcher.py:19: SettingWithCopyWarning: \n",
      "A value is trying to be set on a copy of a slice from a DataFrame.\n",
      "Try using .loc[row_indexer,col_indexer] = value instead\n",
      "\n",
      "See the caveats in the documentation: https://pandas.pydata.org/pandas-docs/stable/user_guide/indexing.html#returning-a-view-versus-a-copy\n"
     ]
    },
    {
     "name": "stdout",
     "output_type": "stream",
     "text": [
      "When simulating the last round a 1000 times the model has an average accuracy per round of 43.19%!\n"
     ]
    }
   ],
   "source": [
    "games[\"winner\"] = games.apply(lambda x: \"tie\" if x[\"tie?\"] == \"y\" else (x[\"home\"] if x[\"home_goals\"] > x[\"away_goals\"] else x[\"away\"]), axis=1)\n",
    "\n",
    "test_2 = games.tail(7)\n",
    "\n",
    "def sim_games(schedule, stat_data, num_sim):\n",
    "    result = []\n",
    "    sim_count = 0\n",
    "    while sim_count < num_sim:\n",
    "        for index, row in schedule.iterrows():\n",
    "            h = row[\"home\"]\n",
    "            a = row['away']\n",
    "            winner = win(stat_data, h, a)\n",
    "            if winner == h:\n",
    "                schedule.at[index,'sim_winner'] = h\n",
    "            elif winner == a:\n",
    "                schedule.at[index,'sim_winner'] = a\n",
    "            else:\n",
    "                schedule.at[index,'sim_winner'] = \"tie\"\n",
    "            schedule[\"correct\"] = schedule.apply(lambda x: 1 if x[\"winner\"] == x[\"sim_winner\"] else 0, axis = 1)\n",
    "            accuracy = sum(schedule.correct)/len(schedule)\n",
    "            result.append(accuracy)\n",
    "            sim_count += 1\n",
    "    return statistics.mean(result)\n",
    "\n",
    "print(\"When simulating the last round a 1000 times the model has an average accuracy per round of {:.2%}!\".format(sim_games(test_2, df, 1000)))"
   ]
  },
  {
   "cell_type": "code",
   "execution_count": null,
   "metadata": {},
   "outputs": [],
   "source": []
  },
  {
   "cell_type": "code",
   "execution_count": null,
   "metadata": {},
   "outputs": [],
   "source": []
  },
  {
   "cell_type": "code",
   "execution_count": null,
   "metadata": {},
   "outputs": [],
   "source": []
  }
 ],
 "metadata": {
  "kernelspec": {
   "display_name": "Python 3",
   "language": "python",
   "name": "python3"
  },
  "language_info": {
   "codemirror_mode": {
    "name": "ipython",
    "version": 3
   },
   "file_extension": ".py",
   "mimetype": "text/x-python",
   "name": "python",
   "nbconvert_exporter": "python",
   "pygments_lexer": "ipython3",
   "version": "3.7.6"
  }
 },
 "nbformat": 4,
 "nbformat_minor": 4
}
